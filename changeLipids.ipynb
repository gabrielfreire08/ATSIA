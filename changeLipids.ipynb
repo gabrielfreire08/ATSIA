{
 "cells": [
  {
   "cell_type": "code",
   "execution_count": 1,
   "id": "6462c0ea-0dd8-4abc-b7a5-c86fc0747ac1",
   "metadata": {},
   "outputs": [],
   "source": [
    "import os, glob, shutil, random\n",
    "from PIL import Image"
   ]
  },
  {
   "cell_type": "code",
   "execution_count": 2,
   "id": "3bbca7dc-27a1-4237-9bca-d2fe61e4cbfd",
   "metadata": {},
   "outputs": [],
   "source": [
    "organos = [\"Ampolla Rectal\", \"Branquias\", \"Hepatopancreas\", \"Intestinos\", \"Urópodos\"]\n",
    "grados = [\"G0\", \"G1\", \"G2\", \"G3\", \"G4\"]\n",
    "\n",
    "# for organo in organos:\n",
    "    #Ruta de donde vamos a trabajar y hacer la clasificación de las imágenes\n",
    "path = os.path.join(os.getcwd(), \"img\", organos[2])"
   ]
  },
  {
   "cell_type": "code",
   "execution_count": 3,
   "id": "5b3e47fe-157a-4990-9a93-5bc01c82c0a3",
   "metadata": {},
   "outputs": [
    {
     "data": {
      "text/plain": [
       "'C:\\\\Users\\\\gfreirel\\\\projects\\\\ATSIA\\\\img\\\\Hepatopancreas'"
      ]
     },
     "execution_count": 3,
     "metadata": {},
     "output_type": "execute_result"
    }
   ],
   "source": [
    "path"
   ]
  },
  {
   "cell_type": "code",
   "execution_count": 4,
   "id": "e0113078-10b1-4eec-97a8-bf37b8455257",
   "metadata": {},
   "outputs": [],
   "source": [
    "new_path = os.path.join(path, \"done\")"
   ]
  },
  {
   "cell_type": "code",
   "execution_count": 5,
   "id": "bc5b20e5-5311-473b-8bac-b755e4ebf59d",
   "metadata": {},
   "outputs": [],
   "source": [
    "def obtencion_de_nombre_png(path):\n",
    "    files = []\n",
    "    for i in os.listdir(path):\n",
    "        if \".png\" in i:\n",
    "            files.append(i)\n",
    "    return files"
   ]
  },
  {
   "cell_type": "code",
   "execution_count": 6,
   "id": "a21aae4d-7af5-45c0-8988-139713a1b81d",
   "metadata": {},
   "outputs": [],
   "source": []
  },
  {
   "cell_type": "code",
   "execution_count": 173,
   "id": "65b80ec4-42c3-4bf7-b641-d34dc6515ae0",
   "metadata": {},
   "outputs": [],
   "source": [
    "#Obtenemos todos los archivos que hay en la carpeta del PATH\n",
    "files = obtencion_de_nombre_png(path)#path\n",
    "\n",
    "for _ in range(len(files)):\n",
    "               \n",
    "    try:\n",
    "        for file in files: \n",
    "            # print(file)\n",
    "            new_file = list(file)\n",
    "            for i, v in enumerate(file):\n",
    "                # print(i,v)\n",
    "                if v  == \"L\":\n",
    "                    #Encontramos el L y tomamos el numero para transformarlo a numeric\n",
    "                    cat = \"\".join(new_file[i+2: i+5])\n",
    "\n",
    "                    cat = int(cat)\n",
    "                    # print(cat)\n",
    "                    #A menos lípido, mayor el grado de afectación\n",
    "                    if (cat >= 0) & (cat <= 20):\n",
    "                        cat = \"G4\"\n",
    "                    elif (cat > 20) & (cat <= 40):\n",
    "                        cat = \"G3\"\n",
    "                    elif (cat > 40) & (cat <= 60):\n",
    "                        cat = \"G2\"\n",
    "                    elif (cat > 60) & (cat <= 80):\n",
    "                        cat = \"G1\"\n",
    "                    elif (cat > 80) & (cat <= 100):\n",
    "                        cat = \"G0\"\n",
    "                    else:\n",
    "                        pass\n",
    "\n",
    "                    # print(cat)  \n",
    "\n",
    "                    new_file[i] = \"L_\"+cat\n",
    "                    del new_file[i+1:i+5]\n",
    "                    new_string = \"\".join(new_file)\n",
    "\n",
    "            print(new_string)\n",
    "            os.rename(os.path.join(path, file), os.path.join(new_path,new_string))\n",
    "\n",
    "    except FileExistsError:\n",
    "        number_rand = str(random.randint(0, 100))\n",
    "        new_string2 = number_rand +\"__\"+ new_string\n",
    "        os.rename(os.path.join(path, file), os.path.join(new_path,new_string2))"
   ]
  }
 ],
 "metadata": {
  "kernelspec": {
   "display_name": "Python 3 (ipykernel)",
   "language": "python",
   "name": "python3"
  },
  "language_info": {
   "codemirror_mode": {
    "name": "ipython",
    "version": 3
   },
   "file_extension": ".py",
   "mimetype": "text/x-python",
   "name": "python",
   "nbconvert_exporter": "python",
   "pygments_lexer": "ipython3",
   "version": "3.8.8"
  }
 },
 "nbformat": 4,
 "nbformat_minor": 5
}
