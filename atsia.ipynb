{
 "cells": [
  {
   "cell_type": "code",
   "execution_count": null,
   "metadata": {},
   "outputs": [],
   "source": [
    "#Gabriel 6/1/2022"
   ]
  },
  {
   "cell_type": "markdown",
   "metadata": {
    "tags": []
   },
   "source": [
    "# Ignorar"
   ]
  },
  {
   "cell_type": "code",
   "execution_count": null,
   "metadata": {},
   "outputs": [],
   "source": [
    "#hide\n",
    "# !pip install -Uqq fastbook\n",
    "# import fastbook\n",
    "# fastbook.setup_book()"
   ]
  },
  {
   "cell_type": "code",
   "execution_count": null,
   "metadata": {},
   "outputs": [],
   "source": [
    "#hide\n",
    "# from fastbook import *"
   ]
  },
  {
   "cell_type": "markdown",
   "metadata": {
    "jp-MarkdownHeadingCollapsed": true,
    "tags": []
   },
   "source": [
    "# Guardar en Google Drive"
   ]
  },
  {
   "cell_type": "code",
   "execution_count": null,
   "metadata": {},
   "outputs": [],
   "source": [
    "# from google.colab import drive\n",
    "# drive.mount('/content/drive', force_remount=True)"
   ]
  },
  {
   "cell_type": "markdown",
   "metadata": {
    "tags": []
   },
   "source": [
    "# Tabla de contenidos\n",
    "\n",
    "- [1 - Librerías](#lib)\n",
    "- [2 - Paths para Proyecto](#path)\n",
    "- [3 - Análisis de Datos Exploratorios (EDA)](#eda)\n",
    "- [4 - Metadata](#meta)\n",
    "- [5 - Carga de imágenes y metadata](#carga)\n",
    "- [6 - Preprocesamieto de las imágenes](#prepro)\n",
    "- [7 - Train/Test split](#traintest)\n",
    "- [8 - Modelo](#model)"
   ]
  },
  {
   "cell_type": "markdown",
   "metadata": {},
   "source": [
    "<a name='lib'></a>\n",
    "## Librerías"
   ]
  },
  {
   "cell_type": "code",
   "execution_count": 1,
   "metadata": {},
   "outputs": [],
   "source": [
    "from fastai.vision.all import *\n",
    "from utils_ATSIA import *\n",
    "\n",
    "import os\n",
    "import seaborn as sns\n",
    "import numpy as np\n",
    "import pandas as pd\n",
    "import random\n",
    "import matplotlib.pyplot as plt\n",
    "from tqdm import tqdm"
   ]
  },
  {
   "cell_type": "markdown",
   "metadata": {
    "tags": []
   },
   "source": [
    "<a name='path'></a>\n",
    "## Paths para proyecto"
   ]
  },
  {
   "cell_type": "code",
   "execution_count": 2,
   "metadata": {},
   "outputs": [],
   "source": [
    "organos = [\"AmpollaRectal\", \"Branquias\", \"Hepatopancreas\", \"Intestino\", \"Uropodo\"]\n",
    "grados = [\"G0\", \"G1\", \"G2\", \"G3\", \"G4\"]\n",
    "caracteristicas = {\"AmpollaRectal\" :[\"GG\", \"N\"], #\"Gregarinas Gametocistos, Nemátodos\"\n",
    "                   \"Branquias\" : [\"S\", \"M\", \"N\", \"P\", \"AF\"],# \"Suciedad, Melanización, Necrosis, Protozoarios y Algas Filamentosas\"\n",
    "                   \"Hepatopancreas\" : [\"DT\", \"DC\", \"L\", \"M\", \"N\"], #\"Deformidad Tubular, Desprendimiento Celular, Lípidos, Melanización y Necrosis\"\n",
    "                   \"Intestino\" : [\"GT\" \"GG\", \"N\", \"A\", \"RC\"], #\"Gregarinas Trofozoito, Gregarina Gametocistos, Nemátodos, Algas y Restos de Crustaceos\"\n",
    "                   \"Uropodo\" : [\"Prem\", \"Muda\", \"Post\", \"Inte\"]}\n",
    "\n",
    "#Necesitamos la cantidad de caracteres que cada nomenclatura tiene para cada órgano\n",
    "organo_len = {\"AmpollaRectal\" : 10, \"Branquias\" : 25, \"Hepatopancreas\" : 26, \"Intestino\" : 27, \"Uropodo\" :4}"
   ]
  },
  {
   "cell_type": "code",
   "execution_count": 3,
   "metadata": {},
   "outputs": [],
   "source": [
    "main_path = Path(os.getcwd()) #Cuando estemos en local\n",
    "Path.BASE_PATH = main_path\n",
    "# main_path = \"/content/drive/MyDrive/ATSIA\" #Cuando usamos Google Drive\n",
    "path = {}\n",
    "path[\"data\"] = {}\n",
    "path[\"img\"] = {}\n",
    "path[\"metadata\"] = {}\n",
    "\n",
    "for organo in organos: \n",
    "    if not os.path.exists(Path(os.path.join(\"data\", organo))):\n",
    "        os.mkdir(Path(os.path.join(\"data\", organo)))\n",
    "        \n",
    "    if not os.path.exists(Path(os.path.join(\"img\", organo))):\n",
    "        os.mkdir(Path(os.path.join(\"img\", organo)))\n",
    "\n",
    "    if not os.path.exists(Path(os.path.join(\"metadata\", organo))):\n",
    "        os.mkdir(Path(os.path.join(\"metadata\", organo)))\n",
    "\n",
    "for organo in organos:\n",
    "    path[\"data\"][organo] = Path(os.path.join(\"data\", organo, f\"X_{organo}.npy\"))\n",
    "    path[\"img\"][organo] = Path(os.path.join(\"img\", organo))\n",
    "    path[\"metadata\"][organo] = Path(os.path.join(\"metadata\", organo, f\"metadata_{organo}.csv\"))"
   ]
  },
  {
   "cell_type": "code",
   "execution_count": null,
   "metadata": {},
   "outputs": [],
   "source": [
    "# SIZE = 200"
   ]
  },
  {
   "cell_type": "markdown",
   "metadata": {},
   "source": [
    "<a name='eda'></a>\n",
    "## Análisis Exploratorio de Datos (EDA)"
   ]
  },
  {
   "cell_type": "code",
   "execution_count": 4,
   "metadata": {},
   "outputs": [
    {
     "name": "stderr",
     "output_type": "stream",
     "text": [
      "100%|██████████| 5/5 [00:00<00:00, 66.79it/s]\n"
     ]
    }
   ],
   "source": [
    "count = get_img_count(organos, organo_len, caracteristicas, grados, path)"
   ]
  },
  {
   "cell_type": "code",
   "execution_count": 5,
   "metadata": {},
   "outputs": [
    {
     "name": "stdout",
     "output_type": "stream",
     "text": [
      "No hay imágenes en la carpeta img\\AmpollaRectal\n",
      "No hay imágenes en la carpeta img\\Branquias\n"
     ]
    },
    {
     "data": {
      "image/png": "[encoded data removed]",
      "text/plain": [
       "<Figure size 720x360 with 1 Axes>"
      ]
     },
     "metadata": {
      "needs_background": "light"
     },
     "output_type": "display_data"
    },
    {
     "name": "stdout",
     "output_type": "stream",
     "text": [
      "No hay imágenes en la carpeta img\\Intestino\n",
      "No hay imágenes en la carpeta img\\Uropodo\n"
     ]
    }
   ],
   "source": [
    "for organo in organos: \n",
    "    data = count[count[\"Organo\"] == organo]\n",
    "    if data[\"Cantidad\"].sum() != 0:\n",
    "        plt.figure(figsize=(10,5))\n",
    "        sns.barplot(data = data, x = \"Caracteristica\", y = \"Cantidad\", hue = \"Grado\")\n",
    "        plt.title(f\"{organo}\", )\n",
    "        plt.show()\n",
    "    else:\n",
    "        print(f\"No hay imágenes en la carpeta {path['img'][organo]}\")"
   ]
  },
  {
   "cell_type": "code",
   "execution_count": 6,
   "metadata": {},
   "outputs": [
    {
     "name": "stdout",
     "output_type": "stream",
     "text": [
      "No hay imágenes en la carpeta img\\AmpollaRectal\n",
      "No hay imágenes en la carpeta img\\Branquias\n"
     ]
    },
    {
     "data": {
      "image/png": "[encoded data removed]",
      "text/plain": [
       "<Figure size 720x360 with 1 Axes>"
      ]
     },
     "metadata": {
      "needs_background": "light"
     },
     "output_type": "display_data"
    },
    {
     "name": "stdout",
     "output_type": "stream",
     "text": [
      "No hay imágenes en la carpeta img\\Intestino\n",
      "No hay imágenes en la carpeta img\\Uropodo\n"
     ]
    }
   ],
   "source": [
    "for organo in organos: \n",
    "    data = count[count[\"Organo\"] == organo]\n",
    "    if data[\"Cantidad\"].sum() != 0:\n",
    "        plt.figure(figsize=(10,5))\n",
    "        sns.barplot(data = data, x = \"Grado\", y = \"Cantidad\", hue = \"Caracteristica\")\n",
    "        plt.title(f\"{organo}\", )\n",
    "        plt.show()\n",
    "    else:\n",
    "        print(f\"No hay imágenes en la carpeta {path['img'][organo]}\")\n"
   ]
  },
  {
   "cell_type": "markdown",
   "metadata": {
    "tags": []
   },
   "source": [
    "<a name='meta'></a>\n",
    "## Metada"
   ]
  },
  {
   "cell_type": "code",
   "execution_count": 7,
   "metadata": {},
   "outputs": [],
   "source": [
    "#Por el momento vamos a utilizar solo el órgano Hepatopancreas\n",
    "organo = \"Hepatopancreas\""
   ]
  },
  {
   "cell_type": "code",
   "execution_count": 8,
   "metadata": {},
   "outputs": [
    {
     "data": {
      "text/html": [
       "<div>\n",
       "<style scoped>\n",
       "    .dataframe tbody tr th:only-of-type {\n",
       "        vertical-align: middle;\n",
       "    }\n",
       "\n",
       "    .dataframe tbody tr th {\n",
       "        vertical-align: top;\n",
       "    }\n",
       "\n",
       "    .dataframe thead th {\n",
       "        text-align: right;\n",
       "    }\n",
       "</style>\n",
       "<table border=\"1\" class=\"dataframe\">\n",
       "  <thead>\n",
       "    <tr style=\"text-align: right;\">\n",
       "      <th></th>\n",
       "      <th>img_name</th>\n",
       "      <th>labels</th>\n",
       "    </tr>\n",
       "  </thead>\n",
       "  <tbody>\n",
       "    <tr>\n",
       "      <th>0</th>\n",
       "      <td>DT_G0-DC_G0-L_G0-M_G0-N_G0 (10).png</td>\n",
       "      <td>DT_G0 DC_G0 L_G0 M_G0 N_G0</td>\n",
       "    </tr>\n",
       "    <tr>\n",
       "      <th>1</th>\n",
       "      <td>DT_G0-DC_G0-L_G0-M_G0-N_G0 (11).png</td>\n",
       "      <td>DT_G0 DC_G0 L_G0 M_G0 N_G0</td>\n",
       "    </tr>\n",
       "    <tr>\n",
       "      <th>2</th>\n",
       "      <td>DT_G0-DC_G0-L_G0-M_G0-N_G0 (12).png</td>\n",
       "      <td>DT_G0 DC_G0 L_G0 M_G0 N_G0</td>\n",
       "    </tr>\n",
       "    <tr>\n",
       "      <th>3</th>\n",
       "      <td>DT_G0-DC_G0-L_G0-M_G0-N_G0 (13).png</td>\n",
       "      <td>DT_G0 DC_G0 L_G0 M_G0 N_G0</td>\n",
       "    </tr>\n",
       "    <tr>\n",
       "      <th>4</th>\n",
       "      <td>DT_G0-DC_G0-L_G0-M_G0-N_G0 (14).png</td>\n",
       "      <td>DT_G0 DC_G0 L_G0 M_G0 N_G0</td>\n",
       "    </tr>\n",
       "    <tr>\n",
       "      <th>...</th>\n",
       "      <td>...</td>\n",
       "      <td>...</td>\n",
       "    </tr>\n",
       "    <tr>\n",
       "      <th>587</th>\n",
       "      <td>DT_G4-DC_G4-L_G4-M_G4-N_G4 (4).png</td>\n",
       "      <td>DT_G4 DC_G4 L_G4 M_G4 N_G4</td>\n",
       "    </tr>\n",
       "    <tr>\n",
       "      <th>588</th>\n",
       "      <td>DT_G4-DC_G4-L_G4-M_G4-N_G4 (5).png</td>\n",
       "      <td>DT_G4 DC_G4 L_G4 M_G4 N_G4</td>\n",
       "    </tr>\n",
       "    <tr>\n",
       "      <th>589</th>\n",
       "      <td>DT_G4-DC_G4-L_G4-M_G4-N_G4 (6).png</td>\n",
       "      <td>DT_G4 DC_G4 L_G4 M_G4 N_G4</td>\n",
       "    </tr>\n",
       "    <tr>\n",
       "      <th>590</th>\n",
       "      <td>DT_G4-DC_G4-L_G4-M_G4-N_G4 (7).png</td>\n",
       "      <td>DT_G4 DC_G4 L_G4 M_G4 N_G4</td>\n",
       "    </tr>\n",
       "    <tr>\n",
       "      <th>591</th>\n",
       "      <td>DT_G4-DC_G4-L_G4-M_G4-N_G4.png</td>\n",
       "      <td>DT_G4 DC_G4 L_G4 M_G4 N_G4</td>\n",
       "    </tr>\n",
       "  </tbody>\n",
       "</table>\n",
       "<p>592 rows × 2 columns</p>\n",
       "</div>"
      ],
      "text/plain": [
       "                                img_name                      labels\n",
       "0    DT_G0-DC_G0-L_G0-M_G0-N_G0 (10).png  DT_G0 DC_G0 L_G0 M_G0 N_G0\n",
       "1    DT_G0-DC_G0-L_G0-M_G0-N_G0 (11).png  DT_G0 DC_G0 L_G0 M_G0 N_G0\n",
       "2    DT_G0-DC_G0-L_G0-M_G0-N_G0 (12).png  DT_G0 DC_G0 L_G0 M_G0 N_G0\n",
       "3    DT_G0-DC_G0-L_G0-M_G0-N_G0 (13).png  DT_G0 DC_G0 L_G0 M_G0 N_G0\n",
       "4    DT_G0-DC_G0-L_G0-M_G0-N_G0 (14).png  DT_G0 DC_G0 L_G0 M_G0 N_G0\n",
       "..                                   ...                         ...\n",
       "587   DT_G4-DC_G4-L_G4-M_G4-N_G4 (4).png  DT_G4 DC_G4 L_G4 M_G4 N_G4\n",
       "588   DT_G4-DC_G4-L_G4-M_G4-N_G4 (5).png  DT_G4 DC_G4 L_G4 M_G4 N_G4\n",
       "589   DT_G4-DC_G4-L_G4-M_G4-N_G4 (6).png  DT_G4 DC_G4 L_G4 M_G4 N_G4\n",
       "590   DT_G4-DC_G4-L_G4-M_G4-N_G4 (7).png  DT_G4 DC_G4 L_G4 M_G4 N_G4\n",
       "591       DT_G4-DC_G4-L_G4-M_G4-N_G4.png  DT_G4 DC_G4 L_G4 M_G4 N_G4\n",
       "\n",
       "[592 rows x 2 columns]"
      ]
     },
     "execution_count": 8,
     "metadata": {},
     "output_type": "execute_result"
    }
   ],
   "source": [
    "metadata = get_metadata(path = path[\"img\"][organo], organo = organo, organo_len = organo_len)\n",
    "metadata.to_csv(path_or_buf = path[\"metadata\"][organo], index=False)\n",
    "metadata"
   ]
  },
  {
   "cell_type": "markdown",
   "metadata": {},
   "source": [
    "<a name='carga'></a> \n",
    "## Carga de imágenes y metadata "
   ]
  },
  {
   "cell_type": "code",
   "execution_count": 9,
   "metadata": {},
   "outputs": [
    {
     "data": {
      "text/html": [
       "<div>\n",
       "<style scoped>\n",
       "    .dataframe tbody tr th:only-of-type {\n",
       "        vertical-align: middle;\n",
       "    }\n",
       "\n",
       "    .dataframe tbody tr th {\n",
       "        vertical-align: top;\n",
       "    }\n",
       "\n",
       "    .dataframe thead th {\n",
       "        text-align: right;\n",
       "    }\n",
       "</style>\n",
       "<table border=\"1\" class=\"dataframe\">\n",
       "  <thead>\n",
       "    <tr style=\"text-align: right;\">\n",
       "      <th></th>\n",
       "      <th>img_name</th>\n",
       "      <th>labels</th>\n",
       "    </tr>\n",
       "  </thead>\n",
       "  <tbody>\n",
       "    <tr>\n",
       "      <th>499</th>\n",
       "      <td>DT_G3-DC_G1-L_G1-M_G0-N_G4.png</td>\n",
       "      <td>DT_G3 DC_G1 L_G1 M_G0 N_G4</td>\n",
       "    </tr>\n",
       "    <tr>\n",
       "      <th>587</th>\n",
       "      <td>DT_G4-DC_G4-L_G4-M_G4-N_G4 (4).png</td>\n",
       "      <td>DT_G4 DC_G4 L_G4 M_G4 N_G4</td>\n",
       "    </tr>\n",
       "    <tr>\n",
       "      <th>195</th>\n",
       "      <td>DT_G1-DC_G0-L_G4-M_G2-N_G4.png</td>\n",
       "      <td>DT_G1 DC_G0 L_G4 M_G2 N_G4</td>\n",
       "    </tr>\n",
       "  </tbody>\n",
       "</table>\n",
       "</div>"
      ],
      "text/plain": [
       "                               img_name                      labels\n",
       "499      DT_G3-DC_G1-L_G1-M_G0-N_G4.png  DT_G3 DC_G1 L_G1 M_G0 N_G4\n",
       "587  DT_G4-DC_G4-L_G4-M_G4-N_G4 (4).png  DT_G4 DC_G4 L_G4 M_G4 N_G4\n",
       "195      DT_G1-DC_G0-L_G4-M_G2-N_G4.png  DT_G1 DC_G0 L_G4 M_G2 N_G4"
      ]
     },
     "execution_count": 9,
     "metadata": {},
     "output_type": "execute_result"
    }
   ],
   "source": [
    "metadata_csv = pd.read_csv(path[\"metadata\"][organo], sep = \",\")\n",
    "metadata_csv.sample(3)"
   ]
  },
  {
   "cell_type": "markdown",
   "metadata": {
    "tags": []
   },
   "source": [
    "### Constructing a DataBlock"
   ]
  },
  {
   "cell_type": "code",
   "execution_count": null,
   "metadata": {
    "tags": []
   },
   "outputs": [],
   "source": [
    "# # check for mislabelled data\n",
    "# b = []\n",
    "\n",
    "# for i,v in enumerate(metadata_csv[\"labels\"]):\n",
    "#     a = v.split(\" \")\n",
    "#     for val in a:\n",
    "#         if val not in b:\n",
    "#             b.append(val)\n",
    "#             if val == \"N_G0.\":\n",
    "#                 print(v)\n",
    "# b"
   ]
  },
  {
   "cell_type": "code",
   "execution_count": null,
   "metadata": {},
   "outputs": [],
   "source": [
    "img = PILImage(PILImage.create(\"TEST_IMAGE.png\").resize((600,400)))\n",
    "timg = TensorImage(array(img)).permute(2,0,1).float()/255.\n",
    "def _batch_ex(bs): return TensorImage(timg[None].expand(bs, *timg.shape).clone())"
   ]
  },
  {
   "cell_type": "code",
   "execution_count": null,
   "metadata": {},
   "outputs": [],
   "source": [
    "tfms = aug_transforms(mult=1.0, \n",
    "                      do_flip=True, \n",
    "                      flip_vert=True, \n",
    "                      max_rotate=10.0, \n",
    "                      min_zoom=1.0, \n",
    "                      max_zoom=1.2, \n",
    "                      max_lighting=0.1, \n",
    "                      max_warp=0.1, \n",
    "                      p_affine=0.75, \n",
    "                      p_lighting=0.75, \n",
    "                      xtra_tfms=None, \n",
    "                      mode='bilinear', \n",
    "                      pad_mode='reflection', \n",
    "                      align_corners=True, \n",
    "                      batch=False, \n",
    "                      min_scale=1.0)\n",
    "y = _batch_ex(9)\n",
    "for t in tfms: y = t(y, split_idx=0)\n",
    "_,axs = plt.subplots(3,3, figsize=(15,10))\n",
    "for i,ax in enumerate(axs.flatten()): show_image(y[i], ctx=ax)"
   ]
  },
  {
   "cell_type": "code",
   "execution_count": null,
   "metadata": {},
   "outputs": [],
   "source": [
    "RandomSplitter??"
   ]
  },
  {
   "cell_type": "code",
   "execution_count": null,
   "metadata": {},
   "outputs": [],
   "source": [
    "def get_x(r): return Path(path[\"img\"][organo], r['img_name'])\n",
    "def get_y(r): return r['labels'].split(\" \")\n",
    "\n",
    "\n",
    "dblock = DataBlock(blocks=(ImageBlock, MultiCategoryBlock),\n",
    "                   get_x = get_x, \n",
    "                   get_y = get_y, \n",
    "                   item_tfms = Resize(500),\n",
    "                   splitter = RandomSplitter(valid_pct=0.2, seed=42),\n",
    "#                    batch_tfms = Normalize.from_stats(*imagenet_stats)\n",
    "#                    batch_tfms =[*aug_transforms(mult=1.0,\n",
    "#                                               do_flip=True,\n",
    "#                                               flip_vert=True,\n",
    "#                                               max_rotate=10.0, \n",
    "#                                               min_zoom=1.0, \n",
    "#                                               max_zoom=1.2, \n",
    "#                                               max_lighting=0.1, \n",
    "#                                               max_warp=0.1, \n",
    "#                                               p_affine=0.75, \n",
    "#                                               p_lighting=0.75,  \n",
    "#                                               mode='bilinear', \n",
    "#                                               pad_mode='reflection', \n",
    "#                                               align_corners=True, \n",
    "#                                               batch=False, \n",
    "#                                               min_scale=1.0),Normalize.from_stats(*imagenet_stats)]\n",
    "                   )\n",
    "dsets = dblock.datasets(metadata_csv)\n",
    "dsets.train[0]\n",
    "# dsets.valid[0]"
   ]
  },
  {
   "cell_type": "code",
   "execution_count": null,
   "metadata": {},
   "outputs": [],
   "source": [
    "idxs = torch.where(dsets.train[0][1] == 1.)[0]\n",
    "dsets.train.vocab[idxs]"
   ]
  },
  {
   "cell_type": "markdown",
   "metadata": {},
   "source": [
    "And now we can display a sample of our data:"
   ]
  },
  {
   "cell_type": "code",
   "execution_count": null,
   "metadata": {},
   "outputs": [],
   "source": [
    "dls = dblock.dataloaders(metadata_csv, bs=16)"
   ]
  },
  {
   "cell_type": "code",
   "execution_count": null,
   "metadata": {},
   "outputs": [],
   "source": [
    "dls.show_batch(nrows=1, ncols=3, figsize=(15,10))"
   ]
  },
  {
   "cell_type": "code",
   "execution_count": null,
   "metadata": {},
   "outputs": [],
   "source": [
    "dls.valid.items"
   ]
  },
  {
   "cell_type": "markdown",
   "metadata": {
    "tags": []
   },
   "source": [
    "### Binary Cross-Entropy"
   ]
  },
  {
   "cell_type": "code",
   "execution_count": 72,
   "metadata": {},
   "outputs": [],
   "source": [
    "# #Vieja\n",
    "# def atsia_acc(preds, targs):\n",
    "#     columns= [\"acc_dc\",\"acc_dt\", \"acc_l\", \"acc_m\", \"acc_n\"]\n",
    "#     acc = pd.DataFrame(np.zeros((len(preds), len(columns))), columns = columns)\n",
    "#     for i in range(0, len(preds)):\n",
    "        \n",
    "#         cat1_preds = preds[i][:5]\n",
    "#         cat1_targs = targs[i][:5]\n",
    "\n",
    "#         cat2_preds = preds[i][5:10]\n",
    "#         cat2_targs = targs[i][5:10]\n",
    "\n",
    "#         cat3_preds = preds[i][10:15]\n",
    "#         cat3_targs = targs[i][10:15]\n",
    "\n",
    "#         cat4_preds = preds[i][15:20]\n",
    "#         cat4_targs = targs[i][15:20]\n",
    "\n",
    "#         cat5_preds = preds[i][20:]\n",
    "#         cat5_targs = targs[i][20:]\n",
    "        \n",
    "#         if torch.eq(cat1_preds.argmax(), cat1_targs.argmax()):\n",
    "#             acc[\"acc_dc\"][i] = 1\n",
    "#         if torch.eq(cat2_preds.argmax(), cat2_targs.argmax()):\n",
    "#             acc[\"acc_dt\"][i] = 1\n",
    "#         if torch.eq(cat3_preds.argmax(), cat3_targs.argmax()):\n",
    "#             acc[\"acc_l\"][i] = 1 \n",
    "#         if torch.eq(cat4_preds.argmax(), cat4_targs.argmax()):\n",
    "#             acc[\"acc_m\"][i] = 1\n",
    "#         if torch.eq(cat5_preds.argmax(), cat5_targs.argmax()):\n",
    "#             acc[\"acc_n\"][i] = 1\n",
    "        \n",
    "#     return acc.describe().loc[\"mean\"].mean()"
   ]
  },
  {
   "cell_type": "code",
   "execution_count": null,
   "metadata": {},
   "outputs": [],
   "source": [
    "# #Vieja\n",
    "# class BCEWithLogitsLossFlat_atsia(BaseLoss):\n",
    "#     '''FOR USE OF ATSIA: Same as `nn.BCEWithLogitsLoss`, but flattens input and target.'''\n",
    "    \n",
    "#     @use_kwargs_dict(keep=True, weight=None, reduction='mean', pos_weight=None)\n",
    "#     def __init__(self, *args, axis=-1, floatify=True, thresh=0.5, **kwargs):\n",
    "#         if kwargs.get('pos_weight', None) is not None and kwargs.get('flatten', None) is True:\n",
    "#             raise ValueError(\"`flatten` must be False when using `pos_weight` to avoid a RuntimeError due to shape mismatch\")\n",
    "#         if kwargs.get('pos_weight', None) is not None: kwargs['flatten'] = False\n",
    "#         super().__init__(nn.BCEWithLogitsLoss, *args, axis=axis, floatify=floatify, is_2d=False, **kwargs)\n",
    "#         self.thresh = thresh\n",
    "\n",
    "#     def preds_norm(preds):\n",
    "#         cat = np.array(np.zeros(preds.shape))\n",
    "\n",
    "#         for i in range(0, len(preds)):\n",
    "\n",
    "#             cat1_preds = preds[i][:5]\n",
    "#             cat2_preds = preds[i][5:10]\n",
    "#             cat3_preds = preds[i][10:15]\n",
    "#             cat4_preds = preds[i][15:20]\n",
    "#             cat5_preds = preds[i][20:]\n",
    "\n",
    "#             cat1_preds_new = np.zeros(len(cat1_preds))\n",
    "#             cat1_preds_new[cat1_preds.argmax()] = 1\n",
    "#             cat2_preds_new = np.zeros((len(cat2_preds)))\n",
    "#             cat2_preds_new[cat2_preds.argmax()] = 1\n",
    "#             cat3_preds_new = np.zeros((len(cat3_preds)))\n",
    "#             cat3_preds_new[cat3_preds.argmax()] = 1\n",
    "#             cat4_preds_new = np.zeros((len(cat4_preds)))\n",
    "#             cat4_preds_new[cat4_preds.argmax()] = 1\n",
    "#             cat5_preds_new = np.zeros((len(cat5_preds)))\n",
    "#             cat5_preds_new[cat5_preds.argmax()] = 1\n",
    "            \n",
    "#             cat[i] = np.concatenate((cat1_preds_new, cat2_preds_new, cat3_preds_new, cat4_preds_new, cat5_preds_new), axis = 0)\n",
    "            \n",
    "#         return cat\n",
    "    \n",
    "#     def decodes(self, x):    \n",
    "#         preds_norm_1 = preds_norm(x)\n",
    "#         preds_norm_1 = torch.from_numpy(preds_norm_1)\n",
    "#         return preds_norm_1>self.thresh\n",
    "    \n",
    "#     def activation(self, x): return torch.sigmoid(x)"
   ]
  },
  {
   "cell_type": "code",
   "execution_count": 71,
   "metadata": {},
   "outputs": [],
   "source": [
    "#Nueva\n",
    "def get_info():\n",
    "    return organo, caracteristicas, grados\n",
    "\n",
    "def atsia_acc(y_pred, y):\n",
    "    organo, caracteristicas, grados = get_info()\n",
    "    columns = []\n",
    "    for caracteristica in caracteristicas[organo]:\n",
    "        columns.append(f\"ACC_{caracteristica}\")\n",
    "    #Al final columns vendrá en la forma columns = [\"ACC_DT\", \"ACC_DC\", \"ACC_L\", \"ACC_M\", \"ACC_N\"] para Hepatopancreas\n",
    "\n",
    "    acc = pd.DataFrame(np.zeros((len(y_pred), len(columns))), columns = columns)\n",
    "\n",
    "    for i in range(0, len(y_pred)):\n",
    "        for j, caracteristica in enumerate(caracteristicas[organo]): \n",
    "            if j != len(grados)-1:\n",
    "                preds = y_pred[i][len(grados)*j : len(grados)*(j+1)]\n",
    "                targs = y[i][len(grados)*j : len(grados)*(j+1)]\n",
    "\n",
    "            else:\n",
    "                preds = y_pred[i][len(grados)*j :]\n",
    "                targs = y[i][len(grados)*j :]\n",
    "\n",
    "            if torch.eq(preds.argmax(), targs.argmax()):\n",
    "                acc[f\"ACC_{caracteristica}\"][i] = 1\n",
    "                \n",
    "    return acc.describe().loc[\"mean\"].mean()"
   ]
  },
  {
   "cell_type": "code",
   "execution_count": 82,
   "metadata": {},
   "outputs": [],
   "source": [
    "#Nuevo\n",
    "class BCEWithLogitsLossFlat_atsia(BaseLoss):\n",
    "    '''FOR USE OF ATSIA: Same as `nn.BCEWithLogitsLoss`, but flattens input and target.\n",
    "    * Se modificó la función __init__ para que tenga en consideración las caracteristicas y el \n",
    "      organo que se está evaluando.\n",
    "    *  Se modificó la función decodes para satisfacer las necesidades del proyecto de siempre\n",
    "      predicir 1 etiqueta (grado) para cada característica, es decir, debe de predecir \n",
    "      len(caracteristica[organo]) etiquetas\n",
    "    *  Se creó la función preds_norm para realizar lo mencionado en la función decodes\n",
    "    '''\n",
    "    \n",
    "    @use_kwargs_dict(keep=True, weight=None, reduction='mean', pos_weight=None)\n",
    "    def __init__(self, *args, axis=-1, floatify=True, thresh=0.5, organo = organo, caracteristicas = caracteristicas, grados = grados,  **kwargs):\n",
    "        if kwargs.get('pos_weight', None) is not None and kwargs.get('flatten', None) is True:\n",
    "            raise ValueError(\"`flatten` must be False when using `pos_weight` to avoid a RuntimeError due to shape mismatch\")\n",
    "        if kwargs.get('pos_weight', None) is not None: kwargs['flatten'] = False\n",
    "        super().__init__(nn.BCEWithLogitsLoss, *args, axis=axis, floatify=floatify, is_2d=False, **kwargs)\n",
    "        self.thresh = thresh\n",
    "\n",
    "        \n",
    "        self.organo = organo\n",
    "        self.caracteristicas = caracteristicas\n",
    "        self.grados = grados\n",
    "        \n",
    "\n",
    "    def preds_norm(preds, organo, caracteristicas, grados):\n",
    "        '''Usado para poder obtener los valores más altos de cada caracteristica como 1 y el resto como\n",
    "        0 para cuando toque hacer el ploteo de learn.show_results(). Entra un tensor con \n",
    "        shape = len(caractetisticas[organo] * len(grados) con los valores luego de haber pasado por la \n",
    "        sigmoid, se escoge el mayor en intervalos de 5 en 5, dandole el valor de 1 y el resto 0. \n",
    "        Ej:\n",
    "        preds = [0.1, 0.2, 0.3, 0.4, 0.5,         preds_norm = [0, 0, 0, 0, 1,\n",
    "                 0.6, 0.9, 0.7, 0.1, 0.2]                       0, 1, 0, 0, 0]\n",
    "        y luego preds_norm se comparará con el ground truth para medir el accuracy'''\n",
    "        pred_norm = np.array(np.zeros(preds.shape))   \n",
    "        for i in range(0, len(preds)):\n",
    "            cat = []\n",
    "            for j, caracteristica in enumerate(caracteristicas[organo]): \n",
    "                if j != len(grados)-1:\n",
    "                    temp = preds[i][len(grados)*j : len(grados)*(j+1)]\n",
    "                else:\n",
    "                    temp = preds[i][len(grados)*j :]\n",
    "                temp_new = np.zeros(len(temp))\n",
    "                temp_new[temp.argmax()] = 1\n",
    "                cat = np.append(cat, temp_new)\n",
    "            pred_norm[i] = np.array(cat)\n",
    "        return pred_norm\n",
    "    \n",
    "    def decodes(self, x, organo, caracteristicas, grados):    \n",
    "        preds_norm = preds_norm(x, organo, caracteristicas, grados)\n",
    "        preds_norm = torch.from_numpy(preds_norm)\n",
    "        return preds_norm_1>self.thresh\n",
    "    \n",
    "    def activation(self, x): return torch.sigmoid(x)"
   ]
  },
  {
   "cell_type": "code",
   "execution_count": null,
   "metadata": {
    "tags": []
   },
   "outputs": [],
   "source": [
    "learn = cnn_learner(dls, resnet101, metrics = atsia_acc, loss_func = BCEWithLogitsLossFlat_atsia())#partial(accuracy_multi, thresh=0.7)) \n",
    "#usamos partial para indicar un nuevo parametros a la función accuracy_multi que tiene como default thresh = 0.5\n",
    "#Usa la funcion de perdida de BCEWithLogitsLoss automáticamente al ser multi-label classification"
   ]
  },
  {
   "cell_type": "code",
   "execution_count": null,
   "metadata": {},
   "outputs": [],
   "source": [
    "learn.lr_find()"
   ]
  },
  {
   "cell_type": "code",
   "execution_count": null,
   "metadata": {},
   "outputs": [],
   "source": [
    "learn.fit_one_cycle(1, lr_max = slice(5e-3, 5e-2))"
   ]
  },
  {
   "cell_type": "code",
   "execution_count": null,
   "metadata": {},
   "outputs": [],
   "source": [
    "# cbs = [EarlyStoppingCallback(monitor='atsia_acc', patience=6),\n",
    "#        SaveModelCallback(monitor='atsia_acc', fname = 'model_test'),\n",
    "#        ReduceLROnPlateau(monitor='atsia_acc', patience=3)]\n",
    "cbs = [SaveModelCallback(monitor='atsia_acc', fname = 'model_test')]\n",
    "learn.fine_tune(30, base_lr=1e-2, lr_max = slice(5e-3, 5e-2), freeze_epochs=5, cbs = cbs)"
   ]
  },
  {
   "cell_type": "code",
   "execution_count": null,
   "metadata": {},
   "outputs": [],
   "source": [
    "learn.metrics = atsia_acc\n",
    "learn.validate()"
   ]
  },
  {
   "cell_type": "markdown",
   "metadata": {},
   "source": [
    "If you pick a threshold that's too high, you'll only be selecting the objects for which your model is very confident:"
   ]
  },
  {
   "cell_type": "markdown",
   "metadata": {},
   "source": [
    "We can find the best threshold by trying a few levels and seeing what works best. This is much faster if we just grab the predictions once:"
   ]
  },
  {
   "cell_type": "code",
   "execution_count": null,
   "metadata": {
    "scrolled": true
   },
   "outputs": [],
   "source": [
    "preds,targs = learn.get_preds()"
   ]
  },
  {
   "cell_type": "code",
   "execution_count": null,
   "metadata": {},
   "outputs": [],
   "source": [
    "preds[0]"
   ]
  },
  {
   "cell_type": "code",
   "execution_count": null,
   "metadata": {},
   "outputs": [],
   "source": [
    "targs[0]"
   ]
  },
  {
   "cell_type": "code",
   "execution_count": null,
   "metadata": {},
   "outputs": [],
   "source": [
    "fnames=get_image_files(path[\"img\"][organo])\n",
    "learn.predict(fnames[1])"
   ]
  },
  {
   "cell_type": "code",
   "execution_count": null,
   "metadata": {},
   "outputs": [],
   "source": [
    "fnames[1]"
   ]
  },
  {
   "cell_type": "code",
   "execution_count": null,
   "metadata": {},
   "outputs": [],
   "source": [
    "learn.load(Path(\"model_test\"))"
   ]
  },
  {
   "cell_type": "code",
   "execution_count": null,
   "metadata": {
    "scrolled": true
   },
   "outputs": [],
   "source": [
    "dls.valid.items[:16]"
   ]
  },
  {
   "cell_type": "code",
   "execution_count": null,
   "metadata": {},
   "outputs": [],
   "source": [
    "learn.show_results(dl = dls.valid, ds_idx = 1, max_n = 16, figsize = (20,20), shuffle=False)"
   ]
  },
  {
   "cell_type": "markdown",
   "metadata": {},
   "source": [
    "## Conclusion"
   ]
  },
  {
   "cell_type": "markdown",
   "metadata": {},
   "source": [
    "In problems that are at first glance completely different (single-label classification, multi-label classification, and regression), we end up using the same model with just different numbers of outputs. The loss function is the one thing that changes, which is why it's important to double-check that you are using the right loss function for your problem.\n",
    "\n",
    "fastai will automatically try to pick the right one from the data you built, but if you are using pure PyTorch to build your `DataLoader`s, make sure you think hard when you have to decide on your choice of loss function, and remember that you most probably want:\n",
    "\n",
    "- `nn.CrossEntropyLoss` for single-label classification\n",
    "- `nn.BCEWithLogitsLoss` for multi-label classification\n",
    "- `nn.MSELoss` for regression"
   ]
  }
 ],
 "metadata": {
  "jupytext": {
   "split_at_heading": true
  },
  "kernelspec": {
   "display_name": "Python 3 (ipykernel)",
   "language": "python",
   "name": "python3"
  },
  "language_info": {
   "codemirror_mode": {
    "name": "ipython",
    "version": 3
   },
   "file_extension": ".py",
   "mimetype": "text/x-python",
   "name": "python",
   "nbconvert_exporter": "python",
   "pygments_lexer": "ipython3",
   "version": "3.9.7"
  }
 },
 "nbformat": 4,
 "nbformat_minor": 4
}
