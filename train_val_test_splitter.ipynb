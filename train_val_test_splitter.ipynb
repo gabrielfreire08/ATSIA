{
 "cells": [
  {
   "cell_type": "code",
   "execution_count": null,
   "id": "19b458f6",
   "metadata": {},
   "outputs": [],
   "source": [
    "# !python3 -m pip install split-folders[full]"
   ]
  },
  {
   "cell_type": "code",
   "execution_count": null,
   "id": "3a149f76",
   "metadata": {
    "scrolled": true
   },
   "outputs": [],
   "source": [
    "import splitfolders\n",
    "import os\n",
    "old_path = os.path.join(os.getcwd(), \"img\")\n",
    "new_path = os.path.join(os.getcwd(), \"img_split\")\n",
    "\n",
    "os.mkdir(new_path)\n",
    "\n",
    "splitfolders.ratio(old_path, new_path, seed = 42,\n",
    "                   ratio = (0.75, 0.15, 0.10))"
   ]
  }
 ],
 "metadata": {
  "kernelspec": {
   "display_name": "Python 3 (ipykernel)",
   "language": "python",
   "name": "python3"
  },
  "language_info": {
   "codemirror_mode": {
    "name": "ipython",
    "version": 3
   },
   "file_extension": ".py",
   "mimetype": "text/x-python",
   "name": "python",
   "nbconvert_exporter": "python",
   "pygments_lexer": "ipython3",
   "version": "3.9.9"
  }
 },
 "nbformat": 4,
 "nbformat_minor": 5
}
