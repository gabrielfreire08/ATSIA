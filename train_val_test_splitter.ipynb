{
 "cells": [
  {
   "cell_type": "code",
   "execution_count": 6,
   "id": "19b458f6",
   "metadata": {},
   "outputs": [
    {
     "name": "stdout",
     "output_type": "stream",
     "text": [
      "Defaulting to user installation because normal site-packages is not writeable\n",
      "Requirement already satisfied: split-folders in /home/ubuntu/.local/lib/python3.8/site-packages (0.5.1)\n"
     ]
    }
   ],
   "source": [
    "# !python3 -m pip install split-folders[full]"
   ]
  },
  {
   "cell_type": "code",
   "execution_count": 1,
   "id": "3a149f76",
   "metadata": {},
   "outputs": [
    {
     "name": "stderr",
     "output_type": "stream",
     "text": [
      "Copying files: 2065 files [02:19, 14.77 files/s]\n"
     ]
    }
   ],
   "source": [
    "import splitfolders\n",
    "import os\n",
    "old_path = os.path.join(os.getcwd(), \"img\")\n",
    "new_path = os.path.join(os.getcwd(), \"img_split\")\n",
    "\n",
    "os.mkdir(new_path)\n",
    "\n",
    "splitfolders.ratio(old_path, new_path, seed = 42,\n",
    "                   ratio = (0.75, 0.15, 0.10))"
   ]
  }
 ],
 "metadata": {
  "kernelspec": {
   "display_name": "Python 3 (ipykernel)",
   "language": "python",
   "name": "python3"
  },
  "language_info": {
   "codemirror_mode": {
    "name": "ipython",
    "version": 3
   },
   "file_extension": ".py",
   "mimetype": "text/x-python",
   "name": "python",
   "nbconvert_exporter": "python",
   "pygments_lexer": "ipython3",
   "version": "3.9.9"
  }
 },
 "nbformat": 4,
 "nbformat_minor": 5
}
