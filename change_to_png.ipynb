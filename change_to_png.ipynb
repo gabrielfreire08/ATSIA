{
 "cells": [
  {
   "cell_type": "code",
   "execution_count": 1,
   "metadata": {},
   "outputs": [],
   "source": [
    "from PIL import Image\n",
    "from glob import glob\n",
    "import os\n",
    "myDir = os.path.join(os.getcwd(), \"Urópodos\", \"REVISAR NOMBRE\", \"CM\")\n",
    "pic_list = glob(myDir + os.sep + '*' + '.jpg')\n",
    "\n",
    "for pic in pic_list:\n",
    "    print(pic)\n",
    "    #resize, use a string replace to name new bmps\n",
    "    img = Image.open(pic)\n",
    "    new_img = img\n",
    "    newName = pic.replace(\".jpg\",\".png\")\n",
    "    new_img.save(newName)\n",
    "    os.remove(pic)"
   ]
  }
 ],
 "metadata": {
  "kernelspec": {
   "display_name": "Python 3 (ipykernel)",
   "language": "python",
   "name": "python3"
  },
  "language_info": {
   "codemirror_mode": {
    "name": "ipython",
    "version": 3
   },
   "file_extension": ".py",
   "mimetype": "text/x-python",
   "name": "python",
   "nbconvert_exporter": "python",
   "pygments_lexer": "ipython3",
   "version": "3.9.7"
  }
 },
 "nbformat": 4,
 "nbformat_minor": 4
}
